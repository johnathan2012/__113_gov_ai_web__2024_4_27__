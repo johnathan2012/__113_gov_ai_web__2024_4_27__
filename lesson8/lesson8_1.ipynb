{
 "cells": [
  {
   "cell_type": "code",
   "execution_count": 6,
   "metadata": {},
   "outputs": [],
   "source": [
    "class Person():\n",
    "    def __init__(self,n:str):\n",
    "        self.name = n\n",
    "    \n",
    "    def __repr__(self):\n",
    "        return f\"這是Person的實體,我的名字是{self.name}\" #字串插補"
   ]
  },
  {
   "cell_type": "code",
   "execution_count": 7,
   "metadata": {},
   "outputs": [
    {
     "name": "stdout",
     "output_type": "stream",
     "text": [
      "徐國堂\n",
      "這是Person的實體,我的名字是徐國堂\n"
     ]
    }
   ],
   "source": [
    "p1 = Person(\"徐國堂\")\n",
    "print(p1.name)\n",
    "print(p1)"
   ]
  },
  {
   "cell_type": "code",
   "execution_count": 8,
   "metadata": {},
   "outputs": [
    {
     "name": "stdout",
     "output_type": "stream",
     "text": [
      "Robert Hsu\n",
      "這是Person的實體,我的名字是Robert Hsu\n"
     ]
    }
   ],
   "source": [
    "p2 = Person(\"Robert Hsu\")\n",
    "print(p2.name)\n",
    "print(p2)"
   ]
  },
  {
   "cell_type": "code",
   "execution_count": 5,
   "metadata": {},
   "outputs": [
    {
     "data": {
      "text/plain": [
       "'我的名字徐國堂'"
      ]
     },
     "execution_count": 5,
     "metadata": {},
     "output_type": "execute_result"
    }
   ],
   "source": [
    "name = \"徐國堂\"\n",
    "\"我的名字是name\"\n",
    "f\"我的名字{name}\""
   ]
  },
  {
   "cell_type": "code",
   "execution_count": 12,
   "metadata": {},
   "outputs": [
    {
     "name": "stdout",
     "output_type": "stream",
     "text": [
      "<class '__main__.Student'>\n",
      "徐國堂\n",
      "96\n",
      "這是Student的實體,我的名字是徐國堂,我的分數是96\n"
     ]
    }
   ],
   "source": [
    "class Person():\n",
    "    def __init__(self,n:str):\n",
    "        self.name = n\n",
    "    \n",
    "    def __repr__(self):\n",
    "        return f\"這是Person的實體,我的名字是{self.name}\" #字串插補\n",
    "    \n",
    "class Student(Person):\n",
    "    def __init__(self,name:str,scores:int):\n",
    "        super().__init__(name)\n",
    "        self.scores = scores\n",
    "\n",
    "    def __repr__(self):\n",
    "        return f\"這是Student的實體,我的名字是{self.name},我的分數是{self.scores}\" #字串插補    \n",
    "\n",
    "s1 = Student(\"徐國堂\",96)\n",
    "print(type(s1))\n",
    "print(s1.name)\n",
    "print(s1.scores)\n",
    "print(s1)"
   ]
  },
  {
   "cell_type": "code",
   "execution_count": 18,
   "metadata": {},
   "outputs": [
    {
     "name": "stdout",
     "output_type": "stream",
     "text": [
      "<class '__main__.Student'>\n"
     ]
    },
    {
     "ename": "AttributeError",
     "evalue": "can't set attribute 'chinese'",
     "output_type": "error",
     "traceback": [
      "\u001b[0;31m---------------------------------------------------------------------------\u001b[0m",
      "\u001b[0;31mAttributeError\u001b[0m                            Traceback (most recent call last)",
      "Cell \u001b[0;32mIn[18], line 38\u001b[0m\n\u001b[1;32m     36\u001b[0m s1 \u001b[38;5;241m=\u001b[39m Student(\u001b[38;5;124m\"\u001b[39m\u001b[38;5;124m徐國堂\u001b[39m\u001b[38;5;124m\"\u001b[39m,\u001b[38;5;241m96\u001b[39m,\u001b[38;5;241m89\u001b[39m,\u001b[38;5;241m92\u001b[39m)\n\u001b[1;32m     37\u001b[0m \u001b[38;5;28mprint\u001b[39m(\u001b[38;5;28mtype\u001b[39m(s1))\n\u001b[0;32m---> 38\u001b[0m \u001b[43ms1\u001b[49m\u001b[38;5;241;43m.\u001b[39;49m\u001b[43mchinese\u001b[49m \u001b[38;5;241m=\u001b[39m \u001b[38;5;241m100\u001b[39m\n\u001b[1;32m     39\u001b[0m \u001b[38;5;66;03m#s1.english = 100\u001b[39;00m\n\u001b[1;32m     40\u001b[0m \u001b[38;5;66;03m#s1.math = 100\u001b[39;00m\n\u001b[1;32m     41\u001b[0m \u001b[38;5;28mprint\u001b[39m(s1\u001b[38;5;241m.\u001b[39mname)\n",
      "\u001b[0;31mAttributeError\u001b[0m: can't set attribute 'chinese'"
     ]
    }
   ],
   "source": [
    "class Person():\n",
    "    def __init__(self,n:str):\n",
    "        self.name = n\n",
    "    \n",
    "    def __repr__(self):\n",
    "        return f\"這是Person的實體,我的名字是{self.name}\" #字串插補\n",
    "    \n",
    "class Student(Person):\n",
    "    def __init__(self,name:str,chinese:int,english:int,math:int):\n",
    "        super().__init__(name)\n",
    "        self.__chinese = chinese\n",
    "        self.__english = english\n",
    "        self.__math = math\n",
    "    \n",
    "    @property\n",
    "    def chinese(self):\n",
    "        return self.__chinese\n",
    "    \n",
    "    @property\n",
    "    def english(self):\n",
    "        return self.__english\n",
    "    \n",
    "    @property\n",
    "    def math(self):\n",
    "        return self.__math\n",
    "\n",
    "    def __repr__(self):\n",
    "        message = \"\"\n",
    "        message += \"這是Student的實體\\n\"\n",
    "        message += f\"我的姓名是{self.name}\\n\"\n",
    "        message += f\"國文:{self.chinese}\\n\"\n",
    "        message += f\"英文:{self.english}\\n\"\n",
    "        message += f\"數學:{self.math}\\n\"\n",
    "        return message\n",
    "\n",
    "s1 = Student(\"徐國堂\",96,89,92)\n",
    "print(type(s1))\n",
    "#s1.chinese = 100\n",
    "#s1.english = 100\n",
    "#s1.math = 100\n",
    "print(s1.name)\n",
    "print(s1)"
   ]
  }
 ],
 "metadata": {
  "kernelspec": {
   "display_name": "Python 3",
   "language": "python",
   "name": "python3"
  },
  "language_info": {
   "codemirror_mode": {
    "name": "ipython",
    "version": 3
   },
   "file_extension": ".py",
   "mimetype": "text/x-python",
   "name": "python",
   "nbconvert_exporter": "python",
   "pygments_lexer": "ipython3",
   "version": "3.10.14"
  }
 },
 "nbformat": 4,
 "nbformat_minor": 2
}
