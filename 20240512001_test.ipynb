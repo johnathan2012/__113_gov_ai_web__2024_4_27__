{
 "cells": [
  {
   "cell_type": "code",
   "execution_count": 1,
   "metadata": {
    "vscode": {
     "languageId": "python"
    }
   },
   "outputs": [
    {
     "ename": "Error",
     "evalue": "Database was not loaded.",
     "output_type": "error",
     "traceback": [
      "Error: Database was not loaded."
     ]
    }
   ],
   "source": [
    "print(\"Hello, Python!\")\n",
    "name=input(\"What is your name?\")\n",
    "print(\"Hello, \"+name+\"!\")\n",
    "age=input(\"How old are you?\")\n",
    "print(\"You are \"+age+\" years old.\")"
   ]
  }
 ],
 "metadata": {
  "kernelspec": {
   "display_name": "xsql",
   "language": "sqlite",
   "name": "xsql"
  },
  "language_info": {
   "codemirror_mode": "sql",
   "file_extension": "",
   "mimetype": "",
   "name": "mysql",
   "version": "0.2.1"
  }
 },
 "nbformat": 4,
 "nbformat_minor": 2
}
