{
 "cells": [
  {
   "cell_type": "code",
   "execution_count": 3,
   "metadata": {},
   "outputs": [],
   "source": [
    "from pydantic import BaseModel\n",
    "\n",
    "class Person(BaseModel):\n",
    "    first_name:str\n",
    "    last_name:str\n",
    "    age:int"
   ]
  },
  {
   "cell_type": "code",
   "execution_count": 4,
   "metadata": {},
   "outputs": [
    {
     "name": "stdout",
     "output_type": "stream",
     "text": [
      "John\n",
      "Smith\n",
      "42\n",
      "first_name='John' last_name='Smith' age=42\n"
     ]
    }
   ],
   "source": [
    "p1 = Person(first_name='John', last_name='Smith', age=42)\n",
    "print(p1.first_name)\n",
    "print(p1.last_name)\n",
    "print(p1.age)\n",
    "print(p1)"
   ]
  },
  {
   "cell_type": "code",
   "execution_count": 5,
   "metadata": {},
   "outputs": [
    {
     "data": {
      "text/plain": [
       "Person(first_name='John', last_name='Smith', age=42)"
      ]
     },
     "execution_count": 5,
     "metadata": {},
     "output_type": "execute_result"
    }
   ],
   "source": [
    "p2 = Person(first_name='John', last_name='Smith', age='42')\n",
    "p2"
   ]
  },
  {
   "cell_type": "code",
   "execution_count": 7,
   "metadata": {},
   "outputs": [
    {
     "name": "stdout",
     "output_type": "stream",
     "text": [
      "1 validation error for Person\n",
      "age\n",
      "  Input should be a valid integer, unable to parse string as an integer [type=int_parsing, input_value='42a', input_type=str]\n",
      "    For further information visit https://errors.pydantic.dev/2.7/v/int_parsing\n"
     ]
    }
   ],
   "source": [
    "try:\n",
    "    p3 = Person(first_name='John', last_name='Smith', age='42a')\n",
    "    print(p3)\n",
    "except Exception as e:\n",
    "    print(e)"
   ]
  }
 ],
 "metadata": {
  "kernelspec": {
   "display_name": "Python 3",
   "language": "python",
   "name": "python3"
  },
  "language_info": {
   "codemirror_mode": {
    "name": "ipython",
    "version": 3
   },
   "file_extension": ".py",
   "mimetype": "text/x-python",
   "name": "python",
   "nbconvert_exporter": "python",
   "pygments_lexer": "ipython3",
   "version": "3.10.14"
  }
 },
 "nbformat": 4,
 "nbformat_minor": 2
}
