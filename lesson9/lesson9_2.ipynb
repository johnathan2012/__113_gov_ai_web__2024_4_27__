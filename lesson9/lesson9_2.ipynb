{
 "cells": [
  {
   "cell_type": "code",
   "execution_count": 6,
   "metadata": {},
   "outputs": [
    {
     "name": "stdout",
     "output_type": "stream",
     "text": [
      "{'sitename': '大城', 'county': '彰化縣', 'aqi': '40', 'pollutant': '', 'status': '良好', 'so2': '1.1', 'co': '0.18', 'o3': '28.5', 'o3_8hr': '11.4', 'pm10': '15', 'pm2.5': '5', 'no2': '', 'nox': '', 'no': '', 'windspeed': '3.7', 'winddirec': '35', 'datacreationdate': '2024-05-25 10:00', 'unit': '', 'co_8hr': '0.2', 'pm2.5_avg': '12.2', 'pm10_avg': '23', 'so2_avg': '1', 'longitude': '120.26964167', 'latitude': '23.85493056', 'siteid': '85'}\n",
      "{'sitename': '大城', 'county': '彰化縣', 'aqi': '47', 'pollutant': '', 'status': '良好', 'so2': '1.3', 'co': '0.14', 'o3': '23.8', 'o3_8hr': '8.3', 'pm10': '12', 'pm2.5': '5', 'no2': '', 'nox': '', 'no': '', 'windspeed': '3.5', 'winddirec': '36', 'datacreationdate': '2024-05-25 09:00', 'unit': '', 'co_8hr': '0.3', 'pm2.5_avg': '14.4', 'pm10_avg': '26', 'so2_avg': '1', 'longitude': '120.26964167', 'latitude': '23.85493056', 'siteid': '85'}\n",
      "{'sitename': '大城', 'county': '彰化縣', 'aqi': '53', 'pollutant': '細懸浮微粒', 'status': '普通', 'so2': '1.3', 'co': '0.12', 'o3': '22.5', 'o3_8hr': '6.0', 'pm10': '15', 'pm2.5': '5', 'no2': '6.3', 'nox': '8.3', 'no': '1.9', 'windspeed': '3.1', 'winddirec': '27', 'datacreationdate': '2024-05-25 08:00', 'unit': '', 'co_8hr': '0.3', 'pm2.5_avg': '16.5', 'pm10_avg': '30', 'so2_avg': '1', 'longitude': '120.26964167', 'latitude': '23.85493056', 'siteid': '85'}\n",
      "{'sitename': '大城', 'county': '彰化縣', 'aqi': '60', 'pollutant': '細懸浮微粒', 'status': '普通', 'so2': '1.2', 'co': '0.31', 'o3': '6.9', 'o3_8hr': '4.3', 'pm10': '34', 'pm2.5': '19', 'no2': '17.1', 'nox': '22.2', 'no': '5.1', 'windspeed': '2', 'winddirec': '40', 'datacreationdate': '2024-05-25 07:00', 'unit': '', 'co_8hr': '0.3', 'pm2.5_avg': '19.3', 'pm10_avg': '33', 'so2_avg': '1', 'longitude': '120.26964167', 'latitude': '23.85493056', 'siteid': '85'}\n",
      "{'sitename': '大城', 'county': '彰化縣', 'aqi': '60', 'pollutant': '細懸浮微粒', 'status': '普通', 'so2': '1.1', 'co': '0.4', 'o3': '4.3', 'o3_8hr': '5.1', 'pm10': '31', 'pm2.5': '20', 'no2': '20.2', 'nox': '23.4', 'no': '3.2', 'windspeed': '0.9', 'winddirec': '98', 'datacreationdate': '2024-05-25 06:00', 'unit': '', 'co_8hr': '0.3', 'pm2.5_avg': '19', 'pm10_avg': '32', 'so2_avg': '1', 'longitude': '120.26964167', 'latitude': '23.85493056', 'siteid': '85'}\n",
      "{'sitename': '大城', 'county': '彰化縣', 'aqi': '59', 'pollutant': '細懸浮微粒', 'status': '普通', 'so2': '1.2', 'co': '0.42', 'o3': '0.7', 'o3_8hr': '6.4', 'pm10': '38', 'pm2.5': '20', 'no2': '20', 'nox': '24.2', 'no': '4.2', 'windspeed': '1.1', 'winddirec': '13', 'datacreationdate': '2024-05-25 05:00', 'unit': '', 'co_8hr': '0.3', 'pm2.5_avg': '18.6', 'pm10_avg': '31', 'so2_avg': '1', 'longitude': '120.26964167', 'latitude': '23.85493056', 'siteid': '85'}\n",
      "{'sitename': '大城', 'county': '彰化縣', 'aqi': '57', 'pollutant': '細懸浮微粒', 'status': '普通', 'so2': '1.5', 'co': '0.4', 'o3': '1.7', 'o3_8hr': '7.8', 'pm10': '37', 'pm2.5': '26', 'no2': '', 'nox': '', 'no': '', 'windspeed': '1', 'winddirec': '74', 'datacreationdate': '2024-05-25 04:00', 'unit': '', 'co_8hr': '0.3', 'pm2.5_avg': '18', 'pm10_avg': '30', 'so2_avg': '1', 'longitude': '120.26964167', 'latitude': '23.85493056', 'siteid': '85'}\n",
      "{'sitename': '大城', 'county': '彰化縣', 'aqi': '51', 'pollutant': '細懸浮微粒', 'status': '普通', 'so2': '1.6', 'co': '0.41', 'o3': '3.1', 'o3_8hr': '9.8', 'pm10': '33', 'pm2.5': '21', 'no2': '24.1', 'nox': '25', 'no': '0.8', 'windspeed': '1.1', 'winddirec': '77', 'datacreationdate': '2024-05-25 03:00', 'unit': '', 'co_8hr': '0.2', 'pm2.5_avg': '15.5', 'pm10_avg': '28', 'so2_avg': '1', 'longitude': '120.26964167', 'latitude': '23.85493056', 'siteid': '85'}\n",
      "{'sitename': '大城', 'county': '彰化縣', 'aqi': '45', 'pollutant': '', 'status': '良好', 'so2': '1.2', 'co': '0.37', 'o3': '3.5', 'o3_8hr': '13.4', 'pm10': '34', 'pm2.5': '22', 'no2': '18.5', 'nox': '19.4', 'no': '0.9', 'windspeed': '1.6', 'winddirec': '33', 'datacreationdate': '2024-05-25 02:00', 'unit': '', 'co_8hr': '0.2', 'pm2.5_avg': '14', 'pm10_avg': '26', 'so2_avg': '1', 'longitude': '120.26964167', 'latitude': '23.85493056', 'siteid': '85'}\n",
      "{'sitename': '大城', 'county': '彰化縣', 'aqi': '38', 'pollutant': '', 'status': '良好', 'so2': '1.5', 'co': '0.3', 'o3': '4.9', 'o3_8hr': '18.3', 'pm10': '35', 'pm2.5': '21', 'no2': '15.7', 'nox': '16.6', 'no': '0.8', 'windspeed': '0.8', 'winddirec': '87', 'datacreationdate': '2024-05-25 01:00', 'unit': '', 'co_8hr': '0.2', 'pm2.5_avg': '11.7', 'pm10_avg': '24', 'so2_avg': '1', 'longitude': '120.26964167', 'latitude': '23.85493056', 'siteid': '85'}\n",
      "{'sitename': '大城', 'county': '彰化縣', 'aqi': '31', 'pollutant': '', 'status': '良好', 'so2': '1.6', 'co': '0.29', 'o3': '9.1', 'o3_8hr': '23.1', 'pm10': '31', 'pm2.5': '14', 'no2': '14.2', 'nox': '15.1', 'no': '0.9', 'windspeed': '1', 'winddirec': '68', 'datacreationdate': '2024-05-25 00:00', 'unit': '', 'co_8hr': '0.1', 'pm2.5_avg': '9.7', 'pm10_avg': '22', 'so2_avg': '1', 'longitude': '120.26964167', 'latitude': '23.85493056', 'siteid': '85'}\n",
      "{'sitename': '大城', 'county': '彰化縣', 'aqi': '28', 'pollutant': '', 'status': '良好', 'so2': '1.8', 'co': '0.29', 'o3': '13.4', 'o3_8hr': '27.3', 'pm10': '25', 'pm2.5': '15', 'no2': '12.7', 'nox': '13.4', 'no': '0.6', 'windspeed': '1.4', 'winddirec': '71', 'datacreationdate': '2024-05-24 23:00', 'unit': '', 'co_8hr': '0.1', 'pm2.5_avg': '8.5', 'pm10_avg': '20', 'so2_avg': '1', 'longitude': '120.26964167', 'latitude': '23.85493056', 'siteid': '85'}\n"
     ]
    }
   ],
   "source": [
    "from csv import DictReader\n",
    "\n",
    "with open('aqx_p_488-2.csv',encoding='utf-8',newline='') as file:\n",
    "    reader:DictReader = DictReader(file)\n",
    "    sites:list[dict]= list(reader)\n",
    "    \n",
    "for site in sites:\n",
    "    if '大城' == site['sitename']:\n",
    "        print(site)"
   ]
  }
 ],
 "metadata": {
  "kernelspec": {
   "display_name": "Python 3",
   "language": "python",
   "name": "python3"
  },
  "language_info": {
   "codemirror_mode": {
    "name": "ipython",
    "version": 3
   },
   "file_extension": ".py",
   "mimetype": "text/x-python",
   "name": "python",
   "nbconvert_exporter": "python",
   "pygments_lexer": "ipython3",
   "version": "3.10.14"
  }
 },
 "nbformat": 4,
 "nbformat_minor": 2
}
