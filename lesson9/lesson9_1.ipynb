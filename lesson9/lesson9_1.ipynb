{
 "cells": [
  {
   "cell_type": "code",
   "execution_count": 4,
   "metadata": {},
   "outputs": [
    {
     "name": "stdout",
     "output_type": "stream",
     "text": [
      "<class '_io.TextIOWrapper'>\n",
      "False\n"
     ]
    }
   ],
   "source": [
    "file = open(\"names.txt\",encoding=\"utf-8\")\n",
    "print(type(file))\n",
    "print(file.closed)\n",
    "file.close()\n"
   ]
  },
  {
   "cell_type": "code",
   "execution_count": 6,
   "metadata": {},
   "outputs": [
    {
     "name": "stdout",
     "output_type": "stream",
     "text": [
      "陳怡伶\n",
      "馮芳如\n",
      "蒙淑惠\n"
     ]
    }
   ],
   "source": [
    "with open(\"names.txt\",encoding=\"utf-8\") as file:\n",
    "    print(file.readline(),end='')\n",
    "    print(file.readline(),end='')\n",
    "    print(file.readline(),end='')\n"
   ]
  },
  {
   "cell_type": "code",
   "execution_count": 8,
   "metadata": {},
   "outputs": [
    {
     "name": "stdout",
     "output_type": "stream",
     "text": [
      "['陳怡伶\\n', '馮芳如\\n', '蒙淑惠\\n']"
     ]
    }
   ],
   "source": [
    "with open(\"names.txt\",encoding=\"utf-8\") as file:\n",
    "    print(file.readlines(10),end='')"
   ]
  },
  {
   "cell_type": "code",
   "execution_count": null,
   "metadata": {},
   "outputs": [],
   "source": [
    "with open(\"names.txt\",encoding=\"utf-8\") as file:\n",
    "    content:str = file.read()\n",
    "    names:list[str] = content.split(sep='\\n')\n",
    "\n",
    "print(f\"人名的數量:{len(names)}\")\n",
    "for name in names:\n",
    "    print(name)"
   ]
  },
  {
   "cell_type": "code",
   "execution_count": 25,
   "metadata": {},
   "outputs": [
    {
     "name": "stdout",
     "output_type": "stream",
     "text": [
      "陳怡伶\n",
      "張彥博\n",
      "['陳怡伶', '馮芳如', '蒙淑惠', '張軒宸', '陳向愛']\n",
      "['李淑芳', '謝南慧', '趙家豪', '龐皓芳', '張彥博']\n"
     ]
    }
   ],
   "source": [
    "#使用names[] -> subscript\n",
    "print(names[0])\n",
    "print(names[-1])\n",
    "#slice\n",
    "print(names[:5])\n",
    "print(names[-5:])"
   ]
  }
 ],
 "metadata": {
  "kernelspec": {
   "display_name": "Python 3",
   "language": "python",
   "name": "python3"
  },
  "language_info": {
   "codemirror_mode": {
    "name": "ipython",
    "version": 3
   },
   "file_extension": ".py",
   "mimetype": "text/x-python",
   "name": "python",
   "nbconvert_exporter": "python",
   "pygments_lexer": "ipython3",
   "version": "3.10.14"
  }
 },
 "nbformat": 4,
 "nbformat_minor": 2
}
