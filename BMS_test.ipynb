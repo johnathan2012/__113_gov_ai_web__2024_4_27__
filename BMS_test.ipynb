{
 "cells": [
  {
   "cell_type": "code",
   "execution_count": 1,
   "metadata": {
    "vscode": {
     "languageId": "python"
    }
   },
   "outputs": [
    {
     "ename": "Error",
     "evalue": "Database was not loaded.",
     "output_type": "error",
     "traceback": [
      "Error: Database was not loaded."
     ]
    }
   ],
   "source": [
    "name = str(input(\"請輸入姓名:\"))\n",
    "height = int(input(\"請輸入身高(cm):\"))\n",
    "weight = int(input(\"請輸入體重(kg):\"))\n",
    "\n",
    "#BMI值計算公式: BMI = 體重(公斤) / 身高2(公尺2)\n",
    "BMI = weight / (height/100)**2\n",
    "\n",
    "print(\"=====================================\")\n",
    "print(name+\" 先生/女士,您好!\")\n",
    "print(\"您的身高:\",height,\"cm\")\n",
    "print(\"您的體重:\",weight,\"kg\")\n",
    "print(\"您的BMI值為:\",round(BMI,2),\"(kg/m2)\")\n",
    "\n",
    "if BMI < 18.5:\n",
    "    print(\"您的身體質量:過輕\") #體重過輕 BMI<18.5\n",
    "elif 18.5 <= BMI < 24:\n",
    "    print(\"您的身體質量:正常\") #正常範圍 18.5≦BMI＜24\n",
    "elif 24 <= BMI < 27:\n",
    "    print(\"您的身體質量:過重\") #過重 24≦BMI＜27\n",
    "elif 27 <= BMI < 30:\n",
    "    print(\"您的身體質量:輕度肥胖\") #輕度肥胖 27≦BMI＜30\n",
    "elif 30 <= BMI < 35:\n",
    "    print(\"您的身體質量:中度肥胖\") #中度肥胖 30≦BMI＜35\n",
    "else:\n",
    "    print(\"您的身體質量:重度肥胖\") #重度肥胖 BMI≧35\n",
    "    print(\"=====================================\")"
   ]
  }
 ],
 "metadata": {
  "kernelspec": {
   "display_name": "xsql",
   "language": "sqlite",
   "name": "xsql"
  },
  "language_info": {
   "codemirror_mode": "sql",
   "file_extension": "",
   "mimetype": "",
   "name": "mysql",
   "version": "0.2.1"
  }
 },
 "nbformat": 4,
 "nbformat_minor": 2
}
